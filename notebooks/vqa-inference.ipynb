{
 "cells": [
  {
   "cell_type": "markdown",
   "metadata": {},
   "source": [
    "# Inference Notebook for VQA model"
   ]
  },
  {
   "cell_type": "code",
   "execution_count": null,
   "metadata": {},
   "outputs": [
    {
     "name": "stdout",
     "output_type": "stream",
     "text": [
      "README.md         \u001b[34mdata\u001b[m\u001b[m/             \u001b[34mnotebooks\u001b[m\u001b[m/        \u001b[34mscripts\u001b[m\u001b[m/\n",
      "app.py            \u001b[34mmodels\u001b[m\u001b[m/           \u001b[34moutputs\u001b[m\u001b[m/          \u001b[34mvqa\u001b[m\u001b[m/\n",
      "app2.py           \u001b[34mmodules\u001b[m\u001b[m/          requirements.txt\n"
     ]
    }
   ],
   "source": [
    "cd .."
   ]
  },
  {
   "cell_type": "markdown",
   "metadata": {},
   "source": [
    "# Custom Vision and Language Transformer (ViLT)"
   ]
  },
  {
   "cell_type": "markdown",
   "metadata": {},
   "source": [
    "![img](/Users/zagaraa/Documents/GitHub/visionaid-vqa/data/vizwiz/test/VizWiz_test_00000522.jpg)"
   ]
  },
  {
   "cell_type": "code",
   "execution_count": 6,
   "metadata": {},
   "outputs": [
    {
     "name": "stdout",
     "output_type": "stream",
     "text": [
      "Question: What is in the image?\n",
      "Answer: bottle\n"
     ]
    }
   ],
   "source": [
    "!python scripts/inference_robust_vilt.py --image /Users/zagaraa/Documents/GitHub/visionaid-vqa/data/vizwiz/test/VizWiz_test_00000522.jpg --question \"What is in the image?\" --model_path /Users/zagaraa/Documents/GitHub/visionaid-vqa/models/vilt_finetuned_vizwiz"
   ]
  },
  {
   "cell_type": "markdown",
   "metadata": {},
   "source": [
    "# BLIP2"
   ]
  },
  {
   "cell_type": "markdown",
   "metadata": {},
   "source": [
    "![img](/Users/zagaraa/Documents/GitHub/visionaid-vqa/data/vizwiz/test/VizWiz_test_00000299.jpg)"
   ]
  },
  {
   "cell_type": "code",
   "execution_count": 8,
   "metadata": {},
   "outputs": [
    {
     "name": "stdout",
     "output_type": "stream",
     "text": [
      "Loading checkpoint shards: 100%|██████████████████| 4/4 [00:02<00:00,  1.38it/s]\n",
      "Question: What is this product?\n",
      "Answer: niacin\n"
     ]
    }
   ],
   "source": [
    "!python scripts/inference_blip2.py --image /Users/zagaraa/Documents/GitHub/visionaid-vqa/data/vizwiz/test/VizWiz_test_00000299.jpg --question \"What is this product?\" --model_path /Users/zagaraa/Documents/GitHub/visionaid-vqa/models/local_blip2/"
   ]
  },
  {
   "cell_type": "code",
   "execution_count": null,
   "metadata": {},
   "outputs": [],
   "source": []
  }
 ],
 "metadata": {
  "kernelspec": {
   "display_name": "vqa",
   "language": "python",
   "name": "python3"
  },
  "language_info": {
   "codemirror_mode": {
    "name": "ipython",
    "version": 3
   },
   "file_extension": ".py",
   "mimetype": "text/x-python",
   "name": "python",
   "nbconvert_exporter": "python",
   "pygments_lexer": "ipython3",
   "version": "3.9.0"
  }
 },
 "nbformat": 4,
 "nbformat_minor": 2
}
