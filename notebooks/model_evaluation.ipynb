{
 "cells": [
  {
   "cell_type": "markdown",
   "id": "9ab191c9",
   "metadata": {},
   "source": [
    "# Model evaluation notebook"
   ]
  },
  {
   "cell_type": "code",
   "execution_count": 1,
   "id": "5246e0dd",
   "metadata": {},
   "outputs": [
    {
     "name": "stdout",
     "output_type": "stream",
     "text": [
      "/Users/zagaraa/Documents/GitHub/visionaid-vqa\n"
     ]
    },
    {
     "name": "stderr",
     "output_type": "stream",
     "text": [
      "/Users/zagaraa/Documents/GitHub/visionaid-vqa/vqa/lib/python3.9/site-packages/IPython/core/magics/osm.py:417: UserWarning: using dhist requires you to install the `pickleshare` library.\n",
      "  self.shell.db['dhist'] = compress_dhist(dhist)[-100:]\n"
     ]
    }
   ],
   "source": [
    "cd .."
   ]
  },
  {
   "cell_type": "markdown",
   "id": "c5470d9a",
   "metadata": {},
   "source": [
    "## 1) ViLT evaluation"
   ]
  },
  {
   "cell_type": "code",
   "execution_count": 2,
   "id": "ded2ec0b",
   "metadata": {},
   "outputs": [
    {
     "name": "stdout",
     "output_type": "stream",
     "text": [
      "\n",
      "🧠 Evaluating ViLT on VizWiz...\n",
      "\n",
      "\n",
      "✅ Overall Accuracy: 0.2901 (152/524)\n",
      "📝 Average BLEU-1 Score: 0.3017\n",
      "\n",
      "🎯 Accuracy by Answer Type:\n",
      " - unanswerable: 0/66 = 0.0000\n",
      " - yes/no      : 92/129 = 0.7132\n",
      " - number      : 4/52 = 0.0769\n",
      " - other       : 56/277 = 0.2022\n",
      "\n"
     ]
    }
   ],
   "source": [
    "!python scripts/evaluate_vilt.py \\\n",
    "  --test_image_dir /Users/zagaraa/Documents/GitHub/visionaid-vqa/data/balanced_subset2/test \\\n",
    "  --test_annotations /Users/zagaraa/Documents/GitHub/visionaid-vqa/data/balanced_subset2/annotations/test.json \\\n",
    "  --model_path /Users/zagaraa/Documents/GitHub/visionaid-vqa/models/vilt_finetuned_vizwiz"
   ]
  },
  {
   "cell_type": "markdown",
   "id": "f16d6a0d",
   "metadata": {},
   "source": [
    "# 2) Florence-2 evaluation"
   ]
  },
  {
   "cell_type": "code",
   "execution_count": 3,
   "id": "2d602fcd",
   "metadata": {},
   "outputs": [
    {
     "name": "stdout",
     "output_type": "stream",
     "text": [
      "/Users/zagaraa/Documents/GitHub/visionaid-vqa/vqa/lib/python3.9/site-packages/timm/models/layers/__init__.py:48: FutureWarning: Importing from timm.models.layers is deprecated, please import via timm.layers\n",
      "  warnings.warn(f\"Importing from {__name__} is deprecated, please import via timm.layers\", FutureWarning)\n",
      "Florence2LanguageForConditionalGeneration has generative capabilities, as `prepare_inputs_for_generation` is explicitly overwritten. However, it doesn't directly inherit from `GenerationMixin`. From 👉v4.50👈 onwards, `PreTrainedModel` will NOT inherit from `GenerationMixin`, and this model will lose the ability to call `generate` and other related functions.\n",
      "  - If you're using `trust_remote_code=True`, you can get rid of this warning by loading the model with an auto class. See https://huggingface.co/docs/transformers/en/model_doc/auto#auto-classes\n",
      "  - If you are the owner of the model architecture code, please modify your model class such that it inherits from `GenerationMixin` (after `PreTrainedModel`, otherwise you'll get an exception).\n",
      "  - If you are not the owner of the model architecture class, please contact the model code owner to update it.\n",
      "\n",
      "🧠 Evaluating Florence2 on VizWiz...\n",
      "\n",
      "\n",
      "✅ Overall Accuracy: 0.5821 (305/524)\n",
      "📝 Average BLEU-1 Score: 0.6386\n",
      "\n",
      "🎯 Accuracy by Answer Type:\n",
      " - unanswerable: 40/66 = 0.6061\n",
      " - yes/no      : 63/129 = 0.4884\n",
      " - number      : 38/52 = 0.7308\n",
      " - other       : 164/277 = 0.5921\n"
     ]
    }
   ],
   "source": [
    "!python scripts/evaluate_florence2.py \\\n",
    "  --test_image_dir /Users/zagaraa/Documents/GitHub/visionaid-vqa/data/balanced_subset2/test \\\n",
    "  --test_annotations /Users/zagaraa/Documents/GitHub/visionaid-vqa/data/balanced_subset2/annotations/test.json \\\n",
    "  --model_path /Users/zagaraa/Documents/GitHub/visionaid-vqa/models/florence2-finetuned"
   ]
  }
 ],
 "metadata": {
  "kernelspec": {
   "display_name": "vqa",
   "language": "python",
   "name": "python3"
  },
  "language_info": {
   "codemirror_mode": {
    "name": "ipython",
    "version": 3
   },
   "file_extension": ".py",
   "mimetype": "text/x-python",
   "name": "python",
   "nbconvert_exporter": "python",
   "pygments_lexer": "ipython3",
   "version": "3.9.0"
  }
 },
 "nbformat": 4,
 "nbformat_minor": 5
}
