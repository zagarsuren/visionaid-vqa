{
 "cells": [
  {
   "cell_type": "markdown",
   "metadata": {},
   "source": [
    "# Custom ViLT training on balanced subset"
   ]
  },
  {
   "cell_type": "code",
   "execution_count": 1,
   "metadata": {},
   "outputs": [
    {
     "name": "stdout",
     "output_type": "stream",
     "text": [
      "/Users/zagaraa/Documents/GitHub/visionaid-vqa\n"
     ]
    },
    {
     "name": "stderr",
     "output_type": "stream",
     "text": [
      "/Users/zagaraa/Documents/GitHub/visionaid-vqa/vqa/lib/python3.9/site-packages/IPython/core/magics/osm.py:417: UserWarning: using dhist requires you to install the `pickleshare` library.\n",
      "  self.shell.db['dhist'] = compress_dhist(dhist)[-100:]\n"
     ]
    }
   ],
   "source": [
    "cd .."
   ]
  },
  {
   "cell_type": "code",
   "execution_count": 2,
   "metadata": {},
   "outputs": [
    {
     "name": "stdout",
     "output_type": "stream",
     "text": [
      "README.md         \u001b[34mdata\u001b[m\u001b[m/             \u001b[34mnotebooks\u001b[m\u001b[m/        \u001b[34mscripts\u001b[m\u001b[m/\n",
      "app.py            \u001b[34mmodels\u001b[m\u001b[m/           \u001b[34moutputs\u001b[m\u001b[m/          \u001b[34mvqa\u001b[m\u001b[m/\n",
      "\u001b[34massets\u001b[m\u001b[m/           \u001b[34mmodules\u001b[m\u001b[m/          requirements.txt\n"
     ]
    }
   ],
   "source": [
    "ls"
   ]
  },
  {
   "cell_type": "markdown",
   "metadata": {},
   "source": [
    "## Model training"
   ]
  },
  {
   "cell_type": "code",
   "execution_count": null,
   "metadata": {},
   "outputs": [],
   "source": [
    "!python /Users/zagaraa/Documents/GitHub/visionaid-vqa/scripts/train_vilt_step_ocr_balanced.py\\\n",
    "  --train_image_dir /Users/zagaraa/Documents/GitHub/visionaid-vqa/data/balanced_subset/train \\\n",
    "  --val_image_dir /Users/zagaraa/Documents/GitHub/visionaid-vqa/data/balanced_subset/val \\\n",
    "  --test_image_dir /Users/zagaraa/Documents/GitHub/visionaid-vqa/data/balanced_subset/test \\\n",
    "  --train_annotations /Users/zagaraa/Documents/GitHub/visionaid-vqa/data/balanced_subset/annotations/train.json \\\n",
    "  --val_annotations /Users/zagaraa/Documents/GitHub/visionaid-vqa/data/balanced_subset/annotations/val.json \\\n",
    "  --test_annotations /Users/zagaraa/Documents/GitHub/visionaid-vqa/data/balanced_subset/annotations/test.json \\\n",
    "  --model_name dandelin/vilt-b32-finetuned-vqa \\\n",
    "  --output_dir models/vilt_finetuned_vizwiz3 \\\n",
    "  --num_train_epochs 2 \\\n",
    "  --per_device_train_batch_size 2 \\\n",
    "  --learning_rate 5e-5 "
   ]
  },
  {
   "cell_type": "code",
   "execution_count": null,
   "metadata": {},
   "outputs": [],
   "source": []
  }
 ],
 "metadata": {
  "kernelspec": {
   "display_name": "vqa",
   "language": "python",
   "name": "python3"
  },
  "language_info": {
   "codemirror_mode": {
    "name": "ipython",
    "version": 3
   },
   "file_extension": ".py",
   "mimetype": "text/x-python",
   "name": "python",
   "nbconvert_exporter": "python",
   "pygments_lexer": "ipython3",
   "version": "3.9.0"
  }
 },
 "nbformat": 4,
 "nbformat_minor": 2
}
