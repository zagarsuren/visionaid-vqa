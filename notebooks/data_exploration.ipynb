{
 "cells": [
  {
   "cell_type": "code",
   "execution_count": 4,
   "id": "f30c27e3",
   "metadata": {},
   "outputs": [
    {
     "name": "stdout",
     "output_type": "stream",
     "text": [
      "Train set counts (Total: 1999):\n",
      "  yes/no: 96\n",
      "  number: 33\n",
      "  other: 1178\n",
      "  unanswerable: 692\n",
      "\n",
      "Val set counts (Total: 283):\n",
      "  yes/no: 13\n",
      "  number: 4\n",
      "  other: 168\n",
      "  unanswerable: 98\n",
      "\n",
      "Test set counts (Total: 569):\n",
      "  yes/no: 27\n",
      "  number: 9\n",
      "  other: 336\n",
      "  unanswerable: 197\n",
      "\n"
     ]
    }
   ],
   "source": [
    "import json\n",
    "from collections import Counter\n",
    "\n",
    "# Define the function to count answer types\n",
    "def count_answer_types(filepath):\n",
    "    with open(filepath, 'r') as f:\n",
    "        data = json.load(f)\n",
    "\n",
    "    # Count each answer type\n",
    "    answer_types = [item['answer_type'] for item in data if 'answer_type' in item]\n",
    "    return Counter(answer_types), len(data)\n",
    "\n",
    "# Paths to the VizWiz annotation files\n",
    "files = {\n",
    "    'train': '/Users/zagaraa/Documents/GitHub/visionaid-vqa/data/balanced_subset/annotations/train.json',\n",
    "    'val': '/Users/zagaraa/Documents/GitHub/visionaid-vqa/data/balanced_subset/annotations/val.json',\n",
    "    'test': '/Users/zagaraa/Documents/GitHub/visionaid-vqa/data/balanced_subset/annotations/test.json',\n",
    "}\n",
    "\n",
    "# Aggregate and display counts\n",
    "for split, path in files.items():\n",
    "    counts, total = count_answer_types(path)\n",
    "    print(f\"{split.capitalize()} set counts (Total: {total}):\")\n",
    "    for k in ['yes/no', 'number', 'other', 'unanswerable']:\n",
    "        print(f\"  {k}: {counts.get(k, 0)}\")\n",
    "    print()"
   ]
  }
 ],
 "metadata": {
  "kernelspec": {
   "display_name": "vqa",
   "language": "python",
   "name": "python3"
  },
  "language_info": {
   "codemirror_mode": {
    "name": "ipython",
    "version": 3
   },
   "file_extension": ".py",
   "mimetype": "text/x-python",
   "name": "python",
   "nbconvert_exporter": "python",
   "pygments_lexer": "ipython3",
   "version": "3.9.0"
  }
 },
 "nbformat": 4,
 "nbformat_minor": 5
}
